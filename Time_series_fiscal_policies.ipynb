{
 "cells": [
  {
   "cell_type": "code",
   "execution_count": 1,
   "metadata": {},
   "outputs": [],
   "source": [
    "import pandas as pd\n",
    "import numpy as np\n",
    "import statsmodels.api as sm"
   ]
  },
  {
   "cell_type": "code",
   "execution_count": 2,
   "metadata": {},
   "outputs": [],
   "source": [
    "# Load the time series data from a CSV file\n",
    "df = pd.read_csv('D:\\Documents\\TIme series data\\data\\poverty_ind.csv')\n",
    "\n",
    "year = df['Year']\n",
    "indicators = df.drop('Year', axis=1)"
   ]
  },
  {
   "cell_type": "code",
   "execution_count": 3,
   "metadata": {},
   "outputs": [],
   "source": [
    "# Create a datetime index for the time series\n",
    "datetime_index = pd.to_datetime(year, format='%Y')\n",
    "\n",
    "# Get the input year from the user\n",
    "input_year = int(input(\"Enter the year: \"))\n",
    "\n",
    "# Convert the input year to a number\n",
    "input_year_num = float(input_year)\n",
    "\n",
    "# Sort the DataFrame in ascending order by 'Year'\n",
    "df_sorted = df.sort_values('Year')\n"
   ]
  },
  {
   "cell_type": "code",
   "execution_count": 4,
   "metadata": {},
   "outputs": [],
   "source": [
    "# Create a synthetic DataFrame with missing years and arrange in ascending order\n",
    "missing_years = np.arange(df_sorted['Year'].min(), df_sorted['Year'].max() + 1)\n",
    "missing_years_df = pd.DataFrame({'Year': missing_years})\n",
    "synthetic_data = pd.merge(df_sorted, missing_years_df, how='right').sort_values('Year')"
   ]
  },
  {
   "cell_type": "code",
   "execution_count": 5,
   "metadata": {},
   "outputs": [
    {
     "name": "stderr",
     "output_type": "stream",
     "text": [
      "c:\\ProgramData\\Anaconda3\\lib\\site-packages\\pandas\\core\\indexing.py:1637: SettingWithCopyWarning: \n",
      "A value is trying to be set on a copy of a slice from a DataFrame\n",
      "\n",
      "See the caveats in the documentation: https://pandas.pydata.org/pandas-docs/stable/user_guide/indexing.html#returning-a-view-versus-a-copy\n",
      "  self._setitem_single_block(indexer, value, name)\n"
     ]
    }
   ],
   "source": [
    "# Iterate through the column and replace NaN values\n",
    "for i in range(len(synthetic_data['Indicator'])):\n",
    "    if pd.isna(synthetic_data['Indicator'].iloc[i]):\n",
    "        if i > 0 and i < len(synthetic_data['Indicator']) - 1 and pd.notna(synthetic_data['Indicator'].iloc[i-1]) and pd.notna(synthetic_data['Indicator'].iloc[i+1]):\n",
    "            synthetic_data['Indicator'].iloc[i] = (synthetic_data['Indicator'].iloc[i-1] + synthetic_data['Indicator'].iloc[i+1]) / 2\n",
    "        else:\n",
    "            synthetic_data['Indicator'].iloc[i] = synthetic_data['Indicator'].iloc[i-1]"
   ]
  },
  {
   "cell_type": "code",
   "execution_count": 6,
   "metadata": {},
   "outputs": [],
   "source": [
    "df = synthetic_data"
   ]
  },
  {
   "cell_type": "code",
   "execution_count": 7,
   "metadata": {},
   "outputs": [],
   "source": [
    "\n",
    "input_year = int(input(\"Enter the year: \"))\n"
   ]
  },
  {
   "cell_type": "code",
   "execution_count": 8,
   "metadata": {},
   "outputs": [],
   "source": [
    "# Split the DataFrame based on the input year\n",
    "df_before = df[df['Year'] < input_year]\n",
    "df_complete = df\n"
   ]
  },
  {
   "cell_type": "code",
   "execution_count": 9,
   "metadata": {},
   "outputs": [
    {
     "name": "stderr",
     "output_type": "stream",
     "text": [
      "c:\\ProgramData\\Anaconda3\\lib\\site-packages\\statsmodels\\tsa\\arima_model.py:472: FutureWarning: \n",
      "statsmodels.tsa.arima_model.ARMA and statsmodels.tsa.arima_model.ARIMA have\n",
      "been deprecated in favor of statsmodels.tsa.arima.model.ARIMA (note the .\n",
      "between arima and model) and\n",
      "statsmodels.tsa.SARIMAX. These will be removed after the 0.12 release.\n",
      "\n",
      "statsmodels.tsa.arima.model.ARIMA makes use of the statespace framework and\n",
      "is both well tested and maintained.\n",
      "\n",
      "To silence this warning and continue using ARMA and ARIMA until they are\n",
      "removed, use:\n",
      "\n",
      "import warnings\n",
      "warnings.filterwarnings('ignore', 'statsmodels.tsa.arima_model.ARMA',\n",
      "                        FutureWarning)\n",
      "warnings.filterwarnings('ignore', 'statsmodels.tsa.arima_model.ARIMA',\n",
      "                        FutureWarning)\n",
      "\n",
      "  warnings.warn(ARIMA_DEPRECATION_WARN, FutureWarning)\n",
      "c:\\ProgramData\\Anaconda3\\lib\\site-packages\\statsmodels\\base\\model.py:547: HessianInversionWarning: Inverting hessian failed, no bse or cov_params available\n",
      "  warnings.warn('Inverting hessian failed, no bse or cov_params '\n"
     ]
    }
   ],
   "source": [
    "# Create the time series model using data before the input year\n",
    "model_before = sm.tsa.ARIMA(df_before['Indicator'], order=(1, 0, 0))\n",
    "model_before_fit = model_before.fit()"
   ]
  },
  {
   "cell_type": "code",
   "execution_count": 10,
   "metadata": {},
   "outputs": [],
   "source": [
    "# Create the time series model using the complete dataset\n",
    "model_complete = sm.tsa.ARIMA(df_complete['Indicator'], order=(1, 0, 0))\n",
    "model_complete_fit = model_complete.fit()"
   ]
  },
  {
   "cell_type": "code",
   "execution_count": 19,
   "metadata": {},
   "outputs": [],
   "source": [
    "next_five_before = model_before_fit.forecast(steps=5+(len(df_complete-df_before)))[0]\n",
    "next_five_complete = model_complete_fit.forecast(steps=5)[0]"
   ]
  },
  {
   "cell_type": "code",
   "execution_count": 22,
   "metadata": {},
   "outputs": [],
   "source": [
    "next_five_before = next_five_before[-5:]"
   ]
  },
  {
   "cell_type": "code",
   "execution_count": 24,
   "metadata": {},
   "outputs": [
    {
     "name": "stdout",
     "output_type": "stream",
     "text": [
      "[2021, 2022, 2023, 2024, 2025]\n"
     ]
    }
   ],
   "source": [
    "Year = []\n",
    "\n",
    "for i in range(1, 6):\n",
    "    Year.append(i + df_sorted['Year'].max())\n"
   ]
  },
  {
   "cell_type": "code",
   "execution_count": 34,
   "metadata": {},
   "outputs": [],
   "source": [
    "df_1 = pd.DataFrame(next_five_before, next_five_complete)\n",
    "df_1['Year'] = Year"
   ]
  },
  {
   "cell_type": "code",
   "execution_count": 36,
   "metadata": {},
   "outputs": [
    {
     "data": {
      "text/html": [
       "<div>\n",
       "<style scoped>\n",
       "    .dataframe tbody tr th:only-of-type {\n",
       "        vertical-align: middle;\n",
       "    }\n",
       "\n",
       "    .dataframe tbody tr th {\n",
       "        vertical-align: top;\n",
       "    }\n",
       "\n",
       "    .dataframe thead th {\n",
       "        text-align: right;\n",
       "    }\n",
       "</style>\n",
       "<table border=\"1\" class=\"dataframe\">\n",
       "  <thead>\n",
       "    <tr style=\"text-align: right;\">\n",
       "      <th></th>\n",
       "      <th>0</th>\n",
       "      <th>Year</th>\n",
       "    </tr>\n",
       "  </thead>\n",
       "  <tbody>\n",
       "    <tr>\n",
       "      <th>49.029422</th>\n",
       "      <td>52.15281</td>\n",
       "      <td>2021</td>\n",
       "    </tr>\n",
       "    <tr>\n",
       "      <th>49.047884</th>\n",
       "      <td>52.15281</td>\n",
       "      <td>2022</td>\n",
       "    </tr>\n",
       "    <tr>\n",
       "      <th>49.066235</th>\n",
       "      <td>52.15281</td>\n",
       "      <td>2023</td>\n",
       "    </tr>\n",
       "    <tr>\n",
       "      <th>49.084478</th>\n",
       "      <td>52.15281</td>\n",
       "      <td>2024</td>\n",
       "    </tr>\n",
       "    <tr>\n",
       "      <th>49.102613</th>\n",
       "      <td>52.15281</td>\n",
       "      <td>2025</td>\n",
       "    </tr>\n",
       "  </tbody>\n",
       "</table>\n",
       "</div>"
      ],
      "text/plain": [
       "                  0  Year\n",
       "49.029422  52.15281  2021\n",
       "49.047884  52.15281  2022\n",
       "49.066235  52.15281  2023\n",
       "49.084478  52.15281  2024\n",
       "49.102613  52.15281  2025"
      ]
     },
     "execution_count": 36,
     "metadata": {},
     "output_type": "execute_result"
    }
   ],
   "source": [
    "df_1"
   ]
  }
 ],
 "metadata": {
  "kernelspec": {
   "display_name": "base",
   "language": "python",
   "name": "python3"
  },
  "language_info": {
   "codemirror_mode": {
    "name": "ipython",
    "version": 3
   },
   "file_extension": ".py",
   "mimetype": "text/x-python",
   "name": "python",
   "nbconvert_exporter": "python",
   "pygments_lexer": "ipython3",
   "version": "3.8.8"
  },
  "orig_nbformat": 4
 },
 "nbformat": 4,
 "nbformat_minor": 2
}
